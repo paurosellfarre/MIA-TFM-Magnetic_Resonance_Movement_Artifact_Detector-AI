{
 "cells": [
  {
   "cell_type": "markdown",
   "metadata": {},
   "source": [
    "# Separación de dataset en entrenamiento y validación"
   ]
  },
  {
   "cell_type": "code",
   "execution_count": 1,
   "metadata": {},
   "outputs": [
    {
     "name": "stdout",
     "output_type": "stream",
     "text": [
      "No se encontraron imágenes en la carpeta: ones\n",
      "No se encontraron imágenes en la carpeta: threes\n",
      "No se encontraron imágenes en la carpeta: twos\n"
     ]
    }
   ],
   "source": [
    "import os\n",
    "import shutil\n",
    "from sklearn.model_selection import train_test_split\n",
    "\n",
    "def split_data(root_dir, train_dir, val_dir, val_split=0.2):\n",
    "    \"\"\"\n",
    "    Separa los datos en carpetas de entrenamiento y validación moviendo las imágenes.\n",
    "\n",
    "    :param root_dir: Directorio raíz con las carpetas de clases.\n",
    "    :param train_dir: Directorio para las imágenes de entrenamiento.\n",
    "    :param val_dir: Directorio para las imágenes de validación.\n",
    "    :param val_split: Proporción de datos para validación.\n",
    "    \"\"\"\n",
    "    if not os.path.exists(train_dir):\n",
    "        os.makedirs(train_dir)\n",
    "    if not os.path.exists(val_dir):\n",
    "        os.makedirs(val_dir)\n",
    "\n",
    "    for class_name in os.listdir(root_dir):\n",
    "        class_path = os.path.join(root_dir, class_name)\n",
    "        if not os.path.isdir(class_path):\n",
    "            continue\n",
    "\n",
    "        images = [f for f in os.listdir(class_path) if os.path.isfile(os.path.join(class_path, f))]\n",
    "        if len(images) == 0:\n",
    "            print(f\"No se encontraron imágenes en la carpeta: {class_name}\")\n",
    "            continue\n",
    "\n",
    "        train_images, val_images = train_test_split(images, test_size=val_split, random_state=42)\n",
    "\n",
    "        train_class_dir = os.path.join(train_dir, class_name)\n",
    "        val_class_dir = os.path.join(val_dir, class_name)\n",
    "\n",
    "        os.makedirs(train_class_dir, exist_ok=True)\n",
    "        os.makedirs(val_class_dir, exist_ok=True)\n",
    "\n",
    "        for image in train_images:\n",
    "            shutil.move(os.path.join(class_path, image), os.path.join(train_class_dir, image))\n",
    "\n",
    "        for image in val_images:\n",
    "            shutil.move(os.path.join(class_path, image), os.path.join(val_class_dir, image))\n",
    "\n",
    "# Definir los directorios\n",
    "root_dir = 'png-dataset'\n",
    "train_dir = 'png-train-dataset'\n",
    "val_dir = 'png-val-dataset'\n",
    "\n",
    "# Separar los datos\n",
    "split_data(root_dir, train_dir, val_dir)"
   ]
  }
 ],
 "metadata": {
  "kernelspec": {
   "display_name": "Python 3",
   "language": "python",
   "name": "python3"
  },
  "language_info": {
   "codemirror_mode": {
    "name": "ipython",
    "version": 3
   },
   "file_extension": ".py",
   "mimetype": "text/x-python",
   "name": "python",
   "nbconvert_exporter": "python",
   "pygments_lexer": "ipython3",
   "version": "3.12.3"
  }
 },
 "nbformat": 4,
 "nbformat_minor": 4
}
